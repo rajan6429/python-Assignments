{
 "cells": [
  {
   "cell_type": "raw",
   "id": "57347564-e7d6-42b5-9460-d18975aac82c",
   "metadata": {},
   "source": [
    "Assignment 5 Solutions\n",
    "1.What does an empty dictionary's code look like?\n",
    "Ans: An empty dictionary is often represented by two empty curly brackets\n",
    "d = {} or d = dict()\n",
    "\n",
    "2.what is the value of dictionary value with key 'foo' and the value 42 ?\n",
    "Ans: {'foo':42}\n",
    "\n",
    "3.What is the most significant distinction between a dictionary and a list?\n",
    "Ans: Dictionaries are represented by {} where as listed are represented by []\n",
    "The Items stored in a dictionary are Unordered , while the items in a list are ordered\n",
    "\n",
    "4.What happens if you try to access spam ['foo'] if spam is {'bar':100} ?\n",
    "Ans: we will get a keyError KeyError: 'foo'\n",
    "\n",
    "5.if a dictionary is stored in spam,what is the difference between the expressions 'cat' in spam and 'cat' in spam.keys() ?\n",
    "Ans: There is no difference . The operator checks whether a value exits as a key in the dictionary or not\n",
    "\n",
    "6.if a dictionary is stored in spam,what is the difference between the expressions 'cat' in spam and 'cat' in spam.values() ?\n",
    "Ans:'cat' in spam checks whether there is a 'cat' key in the dictionary, while 'cat' in spam.values() checks whether there is a value 'cat' for one of the keys in spam.\n",
    "\n",
    "\n",
    "\n"
   ]
  }
 ],
 "metadata": {
  "kernelspec": {
   "display_name": "Python 3 (ipykernel)",
   "language": "python",
   "name": "python3"
  },
  "language_info": {
   "codemirror_mode": {
    "name": "ipython",
    "version": 3
   },
   "file_extension": ".py",
   "mimetype": "text/x-python",
   "name": "python",
   "nbconvert_exporter": "python",
   "pygments_lexer": "ipython3",
   "version": "3.10.6"
  }
 },
 "nbformat": 4,
 "nbformat_minor": 5
}
